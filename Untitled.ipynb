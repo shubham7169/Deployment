{
 "cells": [
  {
   "cell_type": "code",
   "execution_count": 5,
   "metadata": {},
   "outputs": [
    {
     "name": "stdout",
     "output_type": "stream",
     "text": [
      " * Serving Flask app \"__main__\" (lazy loading)\n",
      " * Environment: production\n",
      "   WARNING: This is a development server. Do not use it in a production deployment.\n",
      "   Use a production WSGI server instead.\n",
      " * Debug mode: off\n"
     ]
    },
    {
     "name": "stderr",
     "output_type": "stream",
     "text": [
      " * Running on http://localhost:5000/ (Press CTRL+C to quit)\n",
      "[2020-10-02 18:15:08,795] ERROR in app: Exception on / [GET]\n",
      "Traceback (most recent call last):\n",
      "  File \"C:\\Users\\SHUBHAM\\Anaconda3\\lib\\site-packages\\flask\\app.py\", line 2446, in wsgi_app\n",
      "    response = self.full_dispatch_request()\n",
      "  File \"C:\\Users\\SHUBHAM\\Anaconda3\\lib\\site-packages\\flask\\app.py\", line 1951, in full_dispatch_request\n",
      "    rv = self.handle_user_exception(e)\n",
      "  File \"C:\\Users\\SHUBHAM\\Anaconda3\\lib\\site-packages\\flask\\app.py\", line 1820, in handle_user_exception\n",
      "    reraise(exc_type, exc_value, tb)\n",
      "  File \"C:\\Users\\SHUBHAM\\Anaconda3\\lib\\site-packages\\flask\\_compat.py\", line 39, in reraise\n",
      "    raise value\n",
      "  File \"C:\\Users\\SHUBHAM\\Anaconda3\\lib\\site-packages\\flask\\app.py\", line 1949, in full_dispatch_request\n",
      "    rv = self.dispatch_request()\n",
      "  File \"C:\\Users\\SHUBHAM\\Anaconda3\\lib\\site-packages\\flask\\app.py\", line 1935, in dispatch_request\n",
      "    return self.view_functions[rule.endpoint](**req.view_args)\n",
      "  File \"<ipython-input-5-7149ce7008f0>\", line 7, in home\n",
      "    return render_template('page.html')\n",
      "  File \"C:\\Users\\SHUBHAM\\Anaconda3\\lib\\site-packages\\flask\\templating.py\", line 140, in render_template\n",
      "    ctx.app,\n",
      "  File \"C:\\Users\\SHUBHAM\\Anaconda3\\lib\\site-packages\\flask\\templating.py\", line 120, in _render\n",
      "    rv = template.render(context)\n",
      "  File \"C:\\Users\\SHUBHAM\\Anaconda3\\lib\\site-packages\\jinja2\\asyncsupport.py\", line 76, in render\n",
      "    return original_render(self, *args, **kwargs)\n",
      "  File \"C:\\Users\\SHUBHAM\\Anaconda3\\lib\\site-packages\\jinja2\\environment.py\", line 1008, in render\n",
      "    return self.environment.handle_exception(exc_info, True)\n",
      "  File \"C:\\Users\\SHUBHAM\\Anaconda3\\lib\\site-packages\\jinja2\\environment.py\", line 780, in handle_exception\n",
      "    reraise(exc_type, exc_value, tb)\n",
      "  File \"C:\\Users\\SHUBHAM\\Anaconda3\\lib\\site-packages\\jinja2\\_compat.py\", line 37, in reraise\n",
      "    raise value.with_traceback(tb)\n",
      "  File \"C:\\Users\\SHUBHAM\\Desktop\\e976ac76f64e11ea\\music\\templates\\page.html\", line 20, in top-level template code\n",
      "    <form action=\"{{ url_for('predict')}}\"method=\"post\">\n",
      "  File \"C:\\Users\\SHUBHAM\\Anaconda3\\lib\\site-packages\\flask\\helpers.py\", line 370, in url_for\n",
      "    return appctx.app.handle_url_build_error(error, endpoint, values)\n",
      "  File \"C:\\Users\\SHUBHAM\\Anaconda3\\lib\\site-packages\\flask\\app.py\", line 2215, in handle_url_build_error\n",
      "    reraise(exc_type, exc_value, tb)\n",
      "  File \"C:\\Users\\SHUBHAM\\Anaconda3\\lib\\site-packages\\flask\\_compat.py\", line 39, in reraise\n",
      "    raise value\n",
      "  File \"C:\\Users\\SHUBHAM\\Anaconda3\\lib\\site-packages\\flask\\helpers.py\", line 358, in url_for\n",
      "    endpoint, values, method=method, force_external=external\n",
      "  File \"C:\\Users\\SHUBHAM\\Anaconda3\\lib\\site-packages\\werkzeug\\routing.py\", line 2007, in build\n",
      "    raise BuildError(endpoint, values, method, self)\n",
      "werkzeug.routing.BuildError: Could not build url for endpoint 'predict'. Did you mean 'static' instead?\n",
      "127.0.0.1 - - [02/Oct/2020 18:15:08] \"\u001b[1m\u001b[35mGET / HTTP/1.1\u001b[0m\" 500 -\n"
     ]
    }
   ],
   "source": [
    "from flask import Flask, request, jsonify, render_template\n",
    "from tensorflow import keras\n",
    "\n",
    "app = Flask(__name__)\n",
    "@app.route('/')\n",
    "def home():\n",
    "    return render_template('page.html')\n",
    "\n",
    "if __name__ == \"__main__\":\n",
    "    app.run('localhost', 5000)"
   ]
  },
  {
   "cell_type": "code",
   "execution_count": null,
   "metadata": {},
   "outputs": [],
   "source": []
  }
 ],
 "metadata": {
  "kernelspec": {
   "display_name": "Python 3",
   "language": "python",
   "name": "python3"
  },
  "language_info": {
   "codemirror_mode": {
    "name": "ipython",
    "version": 3
   },
   "file_extension": ".py",
   "mimetype": "text/x-python",
   "name": "python",
   "nbconvert_exporter": "python",
   "pygments_lexer": "ipython3",
   "version": "3.7.3"
  }
 },
 "nbformat": 4,
 "nbformat_minor": 2
}
